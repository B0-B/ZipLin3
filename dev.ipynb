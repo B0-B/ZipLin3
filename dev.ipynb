{
 "cells": [
  {
   "cell_type": "code",
   "execution_count": 1,
   "metadata": {},
   "outputs": [],
   "source": [
    "from ziplin3 import client"
   ]
  },
  {
   "cell_type": "code",
   "execution_count": 2,
   "metadata": {},
   "outputs": [],
   "source": [
    "zl = client()"
   ]
  },
  {
   "cell_type": "code",
   "execution_count": 3,
   "metadata": {},
   "outputs": [
    {
     "name": "stdout",
     "output_type": "stream",
     "text": [
      "Successfully created archive C:\\Users\\weezl\\Desktop\\testFolder.\n"
     ]
    }
   ],
   "source": [
    "origin_folder = 'C:\\\\Users\\\\weezl\\\\Desktop\\\\testFolder'\n",
    "zl.compress(origin_folder)"
   ]
  },
  {
   "cell_type": "code",
   "execution_count": 7,
   "metadata": {},
   "outputs": [
    {
     "name": "stdout",
     "output_type": "stream",
     "text": [
      "C:\\Users\\weezl\\Desktop\n",
      "testFolder\n"
     ]
    }
   ],
   "source": [
    "import os\n",
    "import pathlib\n",
    "path = origin_folder\n",
    "path = pathlib.Path(path)\n",
    "parent_dir = str(path.parent.absolute())\n",
    "base_name = path.name\n",
    "\n",
    "print(parent_dir)\n",
    "print(base_name)\n"
   ]
  }
 ],
 "metadata": {
  "kernelspec": {
   "display_name": "Python 3",
   "language": "python",
   "name": "python3"
  },
  "language_info": {
   "codemirror_mode": {
    "name": "ipython",
    "version": 3
   },
   "file_extension": ".py",
   "mimetype": "text/x-python",
   "name": "python",
   "nbconvert_exporter": "python",
   "pygments_lexer": "ipython3",
   "version": "3.11.4"
  }
 },
 "nbformat": 4,
 "nbformat_minor": 2
}
